{
 "cells": [
  {
   "cell_type": "code",
   "execution_count": 7,
   "metadata": {},
   "outputs": [],
   "source": [
    "import requests\n",
    "from bs4 import BeautifulSoup\n",
    "import json\n"
   ]
  },
  {
   "cell_type": "code",
   "execution_count": 20,
   "metadata": {},
   "outputs": [],
   "source": [
    "url = \"https://ecshweb.pchome.com.tw/search/v3.3/all/results?q=LENOVO&page=1&sort=sale/dc\"\n",
    "res = requests.get(url)\n",
    "data = json.loads(res.text)"
   ]
  },
  {
   "cell_type": "code",
   "execution_count": 21,
   "metadata": {},
   "outputs": [
    {
     "name": "stdout",
     "output_type": "stream",
     "text": [
      "Lenovo IdeaPad 330s 14IKB 81F40129TW (i5-8250U/4Gx2/1TB+128G SSD/W10)\n",
      "19990\n",
      "Lenovo Tab P10 (黑)\n",
      "8990\n",
      "Lenovo IdeaPad 330 15ICH 81FK00CPTW (i7-8750H/4G/1TB/GTX 1050 2G獨顯/W10/FHD/黑)\n",
      "23990\n",
      "Lenovo IdeaPad 330 14IKBR 81G20094TW (i5-8250U/4G/1TB+128G SSD/AMD RADEON 530 2G獨顯/W10/黑)\n",
      "16990\n",
      "Lenovo IdeaPad 330s 15IKB 81GC007PTW (i5-8250U/4G/1TB/GTX 1050 2G獨顯/W10)\n",
      "20990\n",
      "Lenovo IdeaPad 330 15IKB 81DE01S3TW (i5-8250U/4G/1TB/AMD RADEON 530 2G獨顯/W10/灰)\n",
      "16990\n",
      "Lenovo IdeaPad Y530 15ICH 81LB004QTW (i7-8750H/8G/1TB+128G SSD/GTX 1060 6G獨顯/W10/FHD)\n",
      "39990\n",
      "Lenovo Tab M10 (黑)\n",
      "6399\n",
      "Lenovo IdeaPad S130 14IGM 81J200BATW (N4100/4G/256G/W10)\n",
      "13990\n",
      "(商)Lenovo ThinkPad X280 20KFA011TW (i5-8250U/8G/256G SSD/W10)\n",
      "32990\n",
      "Lenovo IdeaPad 330s 15IKB 81GC007PTW (i5-8250U/4G/1TB/GTX 1050 2G獨顯/W10)\n",
      "22990\n",
      "Lenovo IdeaPad Y530 15ICH 81FV0049TW (i5-8300H/8G/1TB+128G SSD/GTX 1050 4G獨顯/W10/FHD)\n",
      "27990\n",
      "Lenovo IdeaPad 330 (i5-8300H/4G/1TB+128G SSD/GTX 1050 2G獨顯/W10/FHD/黑)\n",
      "23990\n",
      "Lenovo L380 20M5CTO1WW-1Y (i5-8250U/8G/256G SSD/Win10)\n",
      "25900\n",
      "Lenovo IdeaPad 330 (i5-8250U/4G/1TB/MX 150 2G獨顯/W10/灰)\n",
      "17990\n",
      "[Lenovo聯想] Tab7 LTE(TB-7504X) 2G/16G 7吋通話平板\n",
      "3550\n",
      "Lenovo IdeaPad 530s 14IKB 81EU007WTW (i5-8250U/8G/256G SSD/MX150 2G獨顯/W10/FHD/黑)\n",
      "26990\n",
      "Lenovo IdeaPad 330 15AST 81D600FETW (AMD E2-9000/4G/1TB/W10/FHD/灰)\n",
      "9999\n",
      "Lenovo IdeaPad 330s窄邊輕薄雙碟筆電 (i5-8250U/4G/1TB+128G SSD/2G獨顯/W10)\n",
      "21990\n",
      "Lenovo IdeaPad S130 14IGM 81J200BATW (N4100/4G/256G/W10)\n",
      "11999\n"
     ]
    }
   ],
   "source": [
    "for product in webdatas :\n",
    "    print (product['name'])\n",
    "    print (product['price'])"
   ]
  }
 ],
 "metadata": {
  "kernelspec": {
   "display_name": "Python 3",
   "language": "python",
   "name": "python3"
  },
  "language_info": {
   "codemirror_mode": {
    "name": "ipython",
    "version": 3
   },
   "file_extension": ".py",
   "mimetype": "text/x-python",
   "name": "python",
   "nbconvert_exporter": "python",
   "pygments_lexer": "ipython3",
   "version": "3.7.1"
  }
 },
 "nbformat": 4,
 "nbformat_minor": 2
}
